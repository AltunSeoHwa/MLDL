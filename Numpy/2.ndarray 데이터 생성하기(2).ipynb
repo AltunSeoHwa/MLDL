{
 "cells": [
  {
   "cell_type": "markdown",
   "metadata": {},
   "source": [
    "# ndarray 데이터 생성하기(2)"
   ]
  },
  {
   "cell_type": "code",
   "execution_count": 2,
   "metadata": {},
   "outputs": [],
   "source": [
    "import numpy as np"
   ]
  },
  {
   "cell_type": "markdown",
   "metadata": {},
   "source": [
    "#### random 서브모듈의 함수를 사용해 ndarray 를 생성할 수 있습니다"
   ]
  },
  {
   "cell_type": "markdown",
   "metadata": {},
   "source": [
    "#### rand 함수\n",
    " - 0, 1사이의 분포에서 랜덤한 ndarray 생성"
   ]
  },
  {
   "cell_type": "code",
   "execution_count": 3,
   "metadata": {},
   "outputs": [
    {
     "data": {
      "text/plain": [
       "array([[0.44816805, 0.77864509, 0.44650843],\n",
       "       [0.92703999, 0.72334612, 0.62059085]])"
      ]
     },
     "execution_count": 3,
     "metadata": {},
     "output_type": "execute_result"
    }
   ],
   "source": [
    "# 2행 3열의 랜덤한 값을 생성, 랜덤한 값의 분포는 0과 1사이. \n",
    "np.random.rand(2, 3)"
   ]
  },
  {
   "cell_type": "code",
   "execution_count": 4,
   "metadata": {},
   "outputs": [
    {
     "data": {
      "text/plain": [
       "array([0.92858073, 0.77178303])"
      ]
     },
     "execution_count": 4,
     "metadata": {},
     "output_type": "execute_result"
    }
   ],
   "source": [
    "np.random.rand(2)  # 크기가 2인 1차원 벡터, 랜덤한 값의 분포는 0과 1사이."
   ]
  },
  {
   "cell_type": "code",
   "execution_count": 5,
   "metadata": {},
   "outputs": [
    {
     "data": {
      "text/plain": [
       "array([0.28010299, 0.32392038, 0.05508435, 0.29155356, 0.71227798,\n",
       "       0.25205548, 0.67652491, 0.30683457, 0.42053306, 0.77362524])"
      ]
     },
     "execution_count": 5,
     "metadata": {},
     "output_type": "execute_result"
    }
   ],
   "source": [
    "np.random.rand(10)  # 크기가 10인 1차원 벡터, 랜덤한 값의 분포는 0과 1사이."
   ]
  },
  {
   "cell_type": "code",
   "execution_count": 6,
   "metadata": {},
   "outputs": [
    {
     "data": {
      "text/plain": [
       "array([[[0.2825851 , 0.65101302, 0.97728949],\n",
       "        [0.08424059, 0.52003029, 0.03605832],\n",
       "        [0.61915206, 0.96006205, 0.83250135],\n",
       "        [0.38601963, 0.24301949, 0.9615222 ],\n",
       "        [0.86349517, 0.51620714, 0.69047062]],\n",
       "\n",
       "       [[0.96794228, 0.46762139, 0.87720669],\n",
       "        [0.96464424, 0.89754389, 0.26207822],\n",
       "        [0.27167747, 0.99966633, 0.02570107],\n",
       "        [0.652647  , 0.07350171, 0.61169867],\n",
       "        [0.15453445, 0.173977  , 0.00385404]]])"
      ]
     },
     "execution_count": 6,
     "metadata": {},
     "output_type": "execute_result"
    }
   ],
   "source": [
    "np.random.rand(2, 5, 3)  # 5행 3열 이 2개인 3차원 행렬, 랜덤한 값의 분포는 0과 1사이."
   ]
  },
  {
   "cell_type": "markdown",
   "metadata": {},
   "source": [
    "#### randn함수\n",
    " - n: normal distribution(정규분포)를 의미\n",
    " - 정규분포에서 샘플링된 랜덤 ndarray 생성"
   ]
  },
  {
   "cell_type": "code",
   "execution_count": 7,
   "metadata": {},
   "outputs": [
    {
     "data": {
      "text/plain": [
       "array([[-0.80168305, -2.1799723 , -0.01907925, -0.47561737],\n",
       "       [-0.12450499, -0.55465339, -0.42064375, -0.95182632],\n",
       "       [-1.4483059 ,  1.37847543,  0.76904703,  1.09981268]])"
      ]
     },
     "execution_count": 7,
     "metadata": {},
     "output_type": "execute_result"
    }
   ],
   "source": [
    "# 3행 4열로 정규분포에서 샘플링된 랜덤 값을 생성한다.\n",
    "np.random.randn(3, 4)"
   ]
  },
  {
   "cell_type": "code",
   "execution_count": 8,
   "metadata": {},
   "outputs": [
    {
     "data": {
      "text/plain": [
       "array([[[-0.49235703,  1.78056777],\n",
       "        [ 0.20553143, -2.5915142 ],\n",
       "        [-0.19198621, -2.11704542],\n",
       "        [-1.87171354,  2.67909791]],\n",
       "\n",
       "       [[ 0.87952838,  1.13460545],\n",
       "        [-0.29835489,  0.7275058 ],\n",
       "        [ 0.96924693,  1.27533443],\n",
       "        [ 0.4829333 , -0.11238582]],\n",
       "\n",
       "       [[ 0.50393745, -0.5327424 ],\n",
       "        [-0.28538809, -0.22484349],\n",
       "        [ 1.28218506,  0.28632242],\n",
       "        [ 0.7838584 , -1.3914782 ]]])"
      ]
     },
     "execution_count": 8,
     "metadata": {},
     "output_type": "execute_result"
    }
   ],
   "source": [
    "# 4행 2열이 3개로 된 정규분포에서 샘플링된 랜덤 값을 생성한다.\n",
    "np.random.randn(3, 4, 2)"
   ]
  },
  {
   "cell_type": "code",
   "execution_count": 9,
   "metadata": {},
   "outputs": [
    {
     "data": {
      "text/plain": [
       "array([-0.87140121, -0.7475477 ,  2.75307209, -0.0213475 ,  0.38322589])"
      ]
     },
     "execution_count": 9,
     "metadata": {},
     "output_type": "execute_result"
    }
   ],
   "source": [
    "# 1차원 벡터 ,정규분포에서 샘플링된 랜덤 값을 생성한다.\n",
    "np.random.randn(5)"
   ]
  },
  {
   "cell_type": "markdown",
   "metadata": {},
   "source": [
    "#### randint 함수\n",
    " - 특정 범위에 속해있는 정수 중에서 랜덤하게 샘플링"
   ]
  },
  {
   "cell_type": "code",
   "execution_count": 10,
   "metadata": {},
   "outputs": [
    {
     "data": {
      "text/plain": [
       "array([[88,  9, 44, 68, 38],\n",
       "       [90, 86, 35, 10, 87],\n",
       "       [86, 50, 92, 48, 61]])"
      ]
     },
     "execution_count": 10,
     "metadata": {},
     "output_type": "execute_result"
    }
   ],
   "source": [
    "# 정수 1 ~ 99 사이에서 3행 5열로 랜덤하게 샘플링해서 생성하라\n",
    "np.random.randint(1, 100, size=(3, 5))"
   ]
  },
  {
   "cell_type": "code",
   "execution_count": 11,
   "metadata": {},
   "outputs": [
    {
     "data": {
      "text/plain": [
       "array([[[55, 73, 53, 66, 10],\n",
       "        [96, 66, 42, 23, 66],\n",
       "        [44, 47, 19, 69, 17]],\n",
       "\n",
       "       [[12,  8, 22, 66, 61],\n",
       "        [68, 82, 32, 91, 13],\n",
       "        [25, 32, 16,  5, 36]]])"
      ]
     },
     "execution_count": 11,
     "metadata": {},
     "output_type": "execute_result"
    }
   ],
   "source": [
    "# 정수 1 ~ 99 사이에서 3행 5열이 2개인 3차원 행렬을 랜덤하게 샘플링해서 생성하라\n",
    "np.random.randint(1, 100, size=(2, 3, 5))"
   ]
  },
  {
   "cell_type": "code",
   "execution_count": 12,
   "metadata": {},
   "outputs": [
    {
     "data": {
      "text/plain": [
       "array([71, 26, 36, 63, 11])"
      ]
     },
     "execution_count": 12,
     "metadata": {},
     "output_type": "execute_result"
    }
   ],
   "source": [
    "# 정수 1 ~ 99 사이에서 크기가 5인 1차원 행렬을 랜덤하게 샘플링해서 생성하라\n",
    "np.random.randint(1, 100, size=(5))"
   ]
  },
  {
   "cell_type": "markdown",
   "metadata": {},
   "source": [
    "#### seed 함수\n",
    " - 누가, 언제하든지 똑같은 난수 생성을 원한다면 시드(seed) 번호를 설정해 주면 됨\n",
    " - 시드(seed) 번호는 0과 같거나 큰 임의의 정수를 넣어 주면 됨\n",
    " - 설정한 시드번호를 다시 실행한 후 다시 난수를 발행하면 예전에 발생했던 난수 순서로 동일하게 발행됨으로 코드의 결과를 그대로 재현 할 수 있음"
   ]
  },
  {
   "cell_type": "code",
   "execution_count": 13,
   "metadata": {},
   "outputs": [],
   "source": [
    "np.random.seed(0) # 시드 설정"
   ]
  },
  {
   "cell_type": "code",
   "execution_count": 14,
   "metadata": {},
   "outputs": [
    {
     "data": {
      "text/plain": [
       "array([0.5488135 , 0.71518937, 0.60276338, 0.54488318, 0.4236548 ])"
      ]
     },
     "execution_count": 14,
     "metadata": {},
     "output_type": "execute_result"
    }
   ],
   "source": [
    "np.random.rand(5)"
   ]
  },
  {
   "cell_type": "code",
   "execution_count": 15,
   "metadata": {},
   "outputs": [
    {
     "data": {
      "text/plain": [
       "array([0.64589411, 0.43758721, 0.891773  , 0.96366276, 0.38344152,\n",
       "       0.79172504, 0.52889492, 0.56804456, 0.92559664, 0.07103606])"
      ]
     },
     "execution_count": 15,
     "metadata": {},
     "output_type": "execute_result"
    }
   ],
   "source": [
    "np.random.rand(10)"
   ]
  },
  {
   "cell_type": "code",
   "execution_count": 16,
   "metadata": {},
   "outputs": [
    {
     "data": {
      "text/plain": [
       "array([0.0871293 , 0.0202184 , 0.83261985, 0.77815675, 0.87001215,\n",
       "       0.97861834, 0.79915856, 0.46147936, 0.78052918, 0.11827443])"
      ]
     },
     "execution_count": 16,
     "metadata": {},
     "output_type": "execute_result"
    }
   ],
   "source": [
    "np.random.rand(10)"
   ]
  },
  {
   "cell_type": "code",
   "execution_count": 17,
   "metadata": {},
   "outputs": [],
   "source": [
    "np.random.seed(0) # 시드 재설정"
   ]
  },
  {
   "cell_type": "code",
   "execution_count": 18,
   "metadata": {},
   "outputs": [
    {
     "data": {
      "text/plain": [
       "array([0.5488135 , 0.71518937, 0.60276338, 0.54488318, 0.4236548 ])"
      ]
     },
     "execution_count": 18,
     "metadata": {},
     "output_type": "execute_result"
    }
   ],
   "source": [
    "np.random.rand(5)"
   ]
  },
  {
   "cell_type": "code",
   "execution_count": 19,
   "metadata": {},
   "outputs": [
    {
     "data": {
      "text/plain": [
       "array([0.64589411, 0.43758721, 0.891773  , 0.96366276, 0.38344152,\n",
       "       0.79172504, 0.52889492, 0.56804456, 0.92559664, 0.07103606])"
      ]
     },
     "execution_count": 19,
     "metadata": {},
     "output_type": "execute_result"
    }
   ],
   "source": [
    "np.random.rand(10)"
   ]
  },
  {
   "cell_type": "code",
   "execution_count": 20,
   "metadata": {},
   "outputs": [
    {
     "data": {
      "text/plain": [
       "array([0.0871293 , 0.0202184 , 0.83261985, 0.77815675, 0.87001215,\n",
       "       0.97861834, 0.79915856, 0.46147936, 0.78052918, 0.11827443])"
      ]
     },
     "execution_count": 20,
     "metadata": {},
     "output_type": "execute_result"
    }
   ],
   "source": [
    "np.random.rand(10)"
   ]
  },
  {
   "cell_type": "markdown",
   "metadata": {},
   "source": [
    "#### choice 함수\n",
    " - 주어진 벡터 ndarray로부터 랜덤하게 샘플링\n",
    " - 정수가 주어진 경우에는 np.arange(해당숫자)로 간주\n",
    " - replace=False 이면 중복을 허용하지 않음"
   ]
  },
  {
   "cell_type": "code",
   "execution_count": 21,
   "metadata": {},
   "outputs": [
    {
     "data": {
      "text/plain": [
       "array([[32, 65,  9, 57],\n",
       "       [32, 31, 74, 23],\n",
       "       [35, 75, 55, 28]])"
      ]
     },
     "execution_count": 21,
     "metadata": {},
     "output_type": "execute_result"
    }
   ],
   "source": [
    "# 0~99 로 구성된 1차원 벡터로부터 3행 4열의 행렬에 랜덤하게 샘플링하여 가져오라\n",
    "np.random.choice(100, size=(3, 4))"
   ]
  },
  {
   "cell_type": "code",
   "execution_count": 22,
   "metadata": {},
   "outputs": [
    {
     "data": {
      "text/plain": [
       "array([[3. , 1. ],\n",
       "       [1. , 2.6]])"
      ]
     },
     "execution_count": 22,
     "metadata": {},
     "output_type": "execute_result"
    }
   ],
   "source": [
    "x = np.array([1, 2, 3, 1.5, 2.6, 4.9])\n",
    "np.random.choice(x, size=(2,2))  # 주어진 x에서 2행 2열로 랜덤하게 샘플링하여 가져옴, 중복을 허용함"
   ]
  },
  {
   "cell_type": "code",
   "execution_count": 23,
   "metadata": {},
   "outputs": [
    {
     "data": {
      "text/plain": [
       "array([[1.5, 3. ],\n",
       "       [2. , 2.6]])"
      ]
     },
     "execution_count": 23,
     "metadata": {},
     "output_type": "execute_result"
    }
   ],
   "source": [
    "x = np.array([1, 2, 3, 1.5, 2.6, 4.9])\n",
    "np.random.choice(x, size=(2,2), replace=False)  # 주어진 x에서 2행 2열로 랜덤하게 샘플링하여 가져옴, 중복을 허용하지 않음"
   ]
  },
  {
   "cell_type": "markdown",
   "metadata": {},
   "source": [
    "#### 확률분포 함수\n",
    " - uniform 함수(균등분포에서 램덤하게 샘플링)\n",
    " - normal 함수(정규분포에서 램덤하게 샘플링)"
   ]
  },
  {
   "cell_type": "code",
   "execution_count": 24,
   "metadata": {},
   "outputs": [
    {
     "data": {
      "text/plain": [
       "array([[2.80519695, 1.89989998, 2.22612692, 2.80469717, 1.1985607 ],\n",
       "       [2.93961814, 2.30628007, 1.34181917, 1.71630433, 2.50137228],\n",
       "       [2.21566134, 1.65009446, 1.07685085, 2.26854812, 2.91789854],\n",
       "       [2.30558063, 2.27011775, 2.99059914, 2.16370066, 1.82873718]])"
      ]
     },
     "execution_count": 24,
     "metadata": {},
     "output_type": "execute_result"
    }
   ],
   "source": [
    "# uniform 분포로 1,0 ~ 3.0 까지 랜덤하게 4행 5열로 생성\n",
    "np.random.uniform(1.0, 3.0, size=(4, 5))"
   ]
  },
  {
   "cell_type": "code",
   "execution_count": 25,
   "metadata": {},
   "outputs": [
    {
     "data": {
      "text/plain": [
       "array([[ 2.29977152, -0.47113526,  1.26271548, -1.17051545],\n",
       "       [ 1.0657892 , -0.69993739,  0.14407911,  0.3985421 ],\n",
       "       [ 0.02686925,  1.05583713, -0.07318342, -0.66572066]])"
      ]
     },
     "execution_count": 25,
     "metadata": {},
     "output_type": "execute_result"
    }
   ],
   "source": [
    "# normal(정규) 분포로 랜덤하게 3행 4열로 생성\n",
    "np.random.normal(size=(3, 4))"
   ]
  },
  {
   "cell_type": "code",
   "execution_count": 26,
   "metadata": {},
   "outputs": [
    {
     "data": {
      "text/plain": [
       "array([[-0.04411241, -0.36326702, -0.01234481,  0.04212149],\n",
       "       [ 1.95929589, -0.1984257 ,  0.33053441, -1.43582841],\n",
       "       [ 0.02752832,  1.12060466, -0.22403878, -0.42018339]])"
      ]
     },
     "execution_count": 26,
     "metadata": {},
     "output_type": "execute_result"
    }
   ],
   "source": [
    "np.random.randn(3, 4)  # 위 함수와 동일하게 작동됨"
   ]
  }
 ],
 "metadata": {
  "kernelspec": {
   "display_name": "Python 3",
   "language": "python",
   "name": "python3"
  },
  "language_info": {
   "codemirror_mode": {
    "name": "ipython",
    "version": 3
   },
   "file_extension": ".py",
   "mimetype": "text/x-python",
   "name": "python",
   "nbconvert_exporter": "python",
   "pygments_lexer": "ipython3",
   "version": "3.7.7"
  }
 },
 "nbformat": 4,
 "nbformat_minor": 2
}
