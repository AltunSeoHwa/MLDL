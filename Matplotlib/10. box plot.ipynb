{
 "cells": [
  {
   "cell_type": "markdown",
   "metadata": {},
   "source": [
    "# Box plot"
   ]
  },
  {
   "cell_type": "code",
   "execution_count": 5,
   "metadata": {},
   "outputs": [],
   "source": [
    "# pandas 를 불러옵니다.\n",
    "import pandas as pd\n",
    "\n",
    "# marathon_2015_2017.csv 파일을 읽어옵니다.\n",
    "marathon_2015_2017 = pd.read_csv(\"../marathon_data/marathon_2015_2017.csv\")\n",
    "\n",
    "# matplotlib 를 불러옵니다.\n",
    "import matplotlib.pyplot as plt\n",
    "\n",
    "# seaborn 을 불러옵니다.\n",
    "import seaborn as sns"
   ]
  },
  {
   "cell_type": "code",
   "execution_count": 6,
   "metadata": {},
   "outputs": [
    {
     "data": {
      "text/html": [
       "<div>\n",
       "<style scoped>\n",
       "    .dataframe tbody tr th:only-of-type {\n",
       "        vertical-align: middle;\n",
       "    }\n",
       "\n",
       "    .dataframe tbody tr th {\n",
       "        vertical-align: top;\n",
       "    }\n",
       "\n",
       "    .dataframe thead th {\n",
       "        text-align: right;\n",
       "    }\n",
       "</style>\n",
       "<table border=\"1\" class=\"dataframe\">\n",
       "  <thead>\n",
       "    <tr style=\"text-align: right;\">\n",
       "      <th></th>\n",
       "      <th>Name</th>\n",
       "      <th>Age</th>\n",
       "      <th>M/F</th>\n",
       "      <th>City</th>\n",
       "      <th>State</th>\n",
       "      <th>Country</th>\n",
       "      <th>5K</th>\n",
       "      <th>10K</th>\n",
       "      <th>15K</th>\n",
       "      <th>20K</th>\n",
       "      <th>...</th>\n",
       "      <th>25K</th>\n",
       "      <th>30K</th>\n",
       "      <th>35K</th>\n",
       "      <th>40K</th>\n",
       "      <th>Pace</th>\n",
       "      <th>Official Time</th>\n",
       "      <th>Overall</th>\n",
       "      <th>Gender</th>\n",
       "      <th>Division</th>\n",
       "      <th>Year</th>\n",
       "    </tr>\n",
       "  </thead>\n",
       "  <tbody>\n",
       "    <tr>\n",
       "      <th>0</th>\n",
       "      <td>Desisa, Lelisa</td>\n",
       "      <td>25</td>\n",
       "      <td>M</td>\n",
       "      <td>Ambo</td>\n",
       "      <td>NaN</td>\n",
       "      <td>ETH</td>\n",
       "      <td>883</td>\n",
       "      <td>1783</td>\n",
       "      <td>2697</td>\n",
       "      <td>3629</td>\n",
       "      <td>...</td>\n",
       "      <td>4567</td>\n",
       "      <td>5520</td>\n",
       "      <td>6479</td>\n",
       "      <td>7359</td>\n",
       "      <td>296</td>\n",
       "      <td>7757</td>\n",
       "      <td>1</td>\n",
       "      <td>1</td>\n",
       "      <td>1</td>\n",
       "      <td>2015</td>\n",
       "    </tr>\n",
       "    <tr>\n",
       "      <th>1</th>\n",
       "      <td>Tsegay, Yemane Adhane</td>\n",
       "      <td>30</td>\n",
       "      <td>M</td>\n",
       "      <td>Addis Ababa</td>\n",
       "      <td>NaN</td>\n",
       "      <td>ETH</td>\n",
       "      <td>883</td>\n",
       "      <td>1783</td>\n",
       "      <td>2698</td>\n",
       "      <td>3628</td>\n",
       "      <td>...</td>\n",
       "      <td>4567</td>\n",
       "      <td>5519</td>\n",
       "      <td>6479</td>\n",
       "      <td>7362</td>\n",
       "      <td>298</td>\n",
       "      <td>7788</td>\n",
       "      <td>2</td>\n",
       "      <td>2</td>\n",
       "      <td>2</td>\n",
       "      <td>2015</td>\n",
       "    </tr>\n",
       "    <tr>\n",
       "      <th>2</th>\n",
       "      <td>Chebet, Wilson</td>\n",
       "      <td>29</td>\n",
       "      <td>M</td>\n",
       "      <td>Marakwet</td>\n",
       "      <td>NaN</td>\n",
       "      <td>KEN</td>\n",
       "      <td>883</td>\n",
       "      <td>1783</td>\n",
       "      <td>2697</td>\n",
       "      <td>3629</td>\n",
       "      <td>...</td>\n",
       "      <td>4567</td>\n",
       "      <td>5520</td>\n",
       "      <td>6479</td>\n",
       "      <td>7381</td>\n",
       "      <td>299</td>\n",
       "      <td>7822</td>\n",
       "      <td>3</td>\n",
       "      <td>3</td>\n",
       "      <td>3</td>\n",
       "      <td>2015</td>\n",
       "    </tr>\n",
       "    <tr>\n",
       "      <th>3</th>\n",
       "      <td>Kipyego, Bernard</td>\n",
       "      <td>28</td>\n",
       "      <td>M</td>\n",
       "      <td>Eldoret</td>\n",
       "      <td>NaN</td>\n",
       "      <td>KEN</td>\n",
       "      <td>883</td>\n",
       "      <td>1784</td>\n",
       "      <td>2701</td>\n",
       "      <td>3629</td>\n",
       "      <td>...</td>\n",
       "      <td>4567</td>\n",
       "      <td>5520</td>\n",
       "      <td>6483</td>\n",
       "      <td>7427</td>\n",
       "      <td>300</td>\n",
       "      <td>7847</td>\n",
       "      <td>4</td>\n",
       "      <td>4</td>\n",
       "      <td>4</td>\n",
       "      <td>2015</td>\n",
       "    </tr>\n",
       "    <tr>\n",
       "      <th>4</th>\n",
       "      <td>Korir, Wesley</td>\n",
       "      <td>32</td>\n",
       "      <td>M</td>\n",
       "      <td>Kitale</td>\n",
       "      <td>NaN</td>\n",
       "      <td>KEN</td>\n",
       "      <td>883</td>\n",
       "      <td>1784</td>\n",
       "      <td>2698</td>\n",
       "      <td>3628</td>\n",
       "      <td>...</td>\n",
       "      <td>4567</td>\n",
       "      <td>5520</td>\n",
       "      <td>6479</td>\n",
       "      <td>7407</td>\n",
       "      <td>300</td>\n",
       "      <td>7849</td>\n",
       "      <td>5</td>\n",
       "      <td>5</td>\n",
       "      <td>5</td>\n",
       "      <td>2015</td>\n",
       "    </tr>\n",
       "  </tbody>\n",
       "</table>\n",
       "<p>5 rows × 21 columns</p>\n",
       "</div>"
      ],
      "text/plain": [
       "                    Name  Age M/F         City State Country   5K   10K   15K  \\\n",
       "0         Desisa, Lelisa   25   M         Ambo   NaN     ETH  883  1783  2697   \n",
       "1  Tsegay, Yemane Adhane   30   M  Addis Ababa   NaN     ETH  883  1783  2698   \n",
       "2         Chebet, Wilson   29   M     Marakwet   NaN     KEN  883  1783  2697   \n",
       "3       Kipyego, Bernard   28   M      Eldoret   NaN     KEN  883  1784  2701   \n",
       "4          Korir, Wesley   32   M       Kitale   NaN     KEN  883  1784  2698   \n",
       "\n",
       "    20K  ...   25K   30K   35K   40K  Pace  Official Time  Overall  Gender  \\\n",
       "0  3629  ...  4567  5520  6479  7359   296           7757        1       1   \n",
       "1  3628  ...  4567  5519  6479  7362   298           7788        2       2   \n",
       "2  3629  ...  4567  5520  6479  7381   299           7822        3       3   \n",
       "3  3629  ...  4567  5520  6483  7427   300           7847        4       4   \n",
       "4  3628  ...  4567  5520  6479  7407   300           7849        5       5   \n",
       "\n",
       "   Division  Year  \n",
       "0         1  2015  \n",
       "1         2  2015  \n",
       "2         3  2015  \n",
       "3         4  2015  \n",
       "4         5  2015  \n",
       "\n",
       "[5 rows x 21 columns]"
      ]
     },
     "execution_count": 6,
     "metadata": {},
     "output_type": "execute_result"
    }
   ],
   "source": [
    "marathon_2015_2017.head()"
   ]
  },
  {
   "cell_type": "code",
   "execution_count": 7,
   "metadata": {},
   "outputs": [],
   "source": [
    "# marathon_2015_2017에서 국적이 'USA'인 데이터만 가져옵니다.\n",
    "USA_runner = marathon_2015_2017[marathon_2015_2017.Country == 'USA']\n",
    "\n",
    "# USA_runner에서 성별이 남자인 데이터만 가져옵니다.\n",
    "USA_MALE_runner = USA_runner[USA_runner['M/F'] == 'M']\n",
    "\n",
    "# USA_runner에서 성별이 여자인 데이터만 가져옵니다.\n",
    "USA_FEMALE_runner = USA_runner[USA_runner['M/F'] == 'F']"
   ]
  },
  {
   "cell_type": "code",
   "execution_count": 8,
   "metadata": {},
   "outputs": [
    {
     "data": {
      "text/plain": [
       "<matplotlib.axes._subplots.AxesSubplot at 0x2025d0c9088>"
      ]
     },
     "execution_count": 8,
     "metadata": {},
     "output_type": "execute_result"
    },
    {
     "data": {
      "image/png": "[encoded data removed]",
      "text/plain": [
       "<Figure size 1440x720 with 1 Axes>"
      ]
     },
     "metadata": {},
     "output_type": "display_data"
    }
   ],
   "source": [
    "# 그림틀의 크기를 지정한다.\n",
    "plt.figure(figsize=(20,10))\n",
    "\n",
    "# style 테마 : 'darkgrid', 'whitegrid', 'dark', 'white', 'ticks'\n",
    "# 기본 palette : 'deep', 'muted', 'pastel', 'bright', 'dark', 'colorblind'\n",
    "sns.set(style=\"whitegrid\", palette=\"Set3\")\n",
    "\n",
    "# x축, y축 데이터를 지정하여 box plot를 그립니다.\n",
    "sns.boxplot(x='M/F', y='Pace',\n",
    "            palette=[\"m\", \"g\"],  # 'r'은 빨강, 'b'은 파랑, 'y'은 노랑, 'k'은 검정, 'g'은 녹색, 'm'은 보라\n",
    "            data=USA_runner)"
   ]
  },
  {
   "cell_type": "code",
   "execution_count": 11,
   "metadata": {},
   "outputs": [],
   "source": [
    "# USA_MALE_runner 의 'pace' column 에 대한 기본 통계정보를 가져옵니다.\n",
    "USA_MALE_runner_statistics = USA_MALE_runner['Pace'].describe()\n",
    "\n",
    "# USA_FEMALE_runner 의 'pace' column 에 대한 기본 통계정보를 가져옵니다.\n",
    "USA_FEMALE_runner_statistics = USA_FEMALE_runner['Pace'].describe()"
   ]
  },
  {
   "cell_type": "code",
   "execution_count": 13,
   "metadata": {},
   "outputs": [
    {
     "data": {
      "text/plain": [
       "count    33390.00000\n",
       "mean       514.22944\n",
       "std         97.99571\n",
       "min        298.00000\n",
       "25%        442.00000\n",
       "50%        495.00000\n",
       "75%        566.00000\n",
       "max       1157.00000\n",
       "Name: Pace, dtype: float64"
      ]
     },
     "execution_count": 13,
     "metadata": {},
     "output_type": "execute_result"
    }
   ],
   "source": [
    "# USA_MALE_runner 의 'pace' column 에 대한 기본 통계정보를 확인합니다.\n",
    "USA_MALE_runner_statistics"
   ]
  }
 ],
 "metadata": {
  "anaconda-cloud": {},
  "kernelspec": {
   "display_name": "Python 3",
   "language": "python",
   "name": "python3"
  },
  "language_info": {
   "codemirror_mode": {
    "name": "ipython",
    "version": 3
   },
   "file_extension": ".py",
   "mimetype": "text/x-python",
   "name": "python",
   "nbconvert_exporter": "python",
   "pygments_lexer": "ipython3",
   "version": "3.7.7"
  }
 },
 "nbformat": 4,
 "nbformat_minor": 1
}
