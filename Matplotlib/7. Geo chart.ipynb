{
 "cells": [
  {
   "cell_type": "markdown",
   "metadata": {},
   "source": [
    "# Geo chart"
   ]
  },
  {
   "cell_type": "code",
   "execution_count": 1,
   "metadata": {},
   "outputs": [],
   "source": [
    "# pandas 를 불러옵니다.\n",
    "import pandas as pd\n",
    "\n",
    "# marathon_2015_2017.csv 파일을 읽어옵니다.\n",
    "marathon_2015_2017 = pd.read_csv(\"../marathon_data/marathon_2015_2017.csv\")\n",
    "\n",
    "# matplotlib 를 불러옵니다.\n",
    "import matplotlib.pyplot as plt"
   ]
  },
  {
   "cell_type": "code",
   "execution_count": 2,
   "metadata": {},
   "outputs": [],
   "source": [
    "check_time = 7200  # 초로 2시간을 환산하면 7200\n",
    "Lat = 0\n",
    "Long = 0\n",
    "# 위도('Lat'), 경도('Long')의 위치를 미리 지정\n",
    "points = [[42.247835,-71.474357], [42.274032,-71.423979], [42.282364,-71.364801], [42.297870,-71.284260], \n",
    "          [42.324830,-71.259660], [42.345680,-71.215169], [42.352089,-71.124947], [42.351510,-71.086980]]"
   ]
  },
  {
   "cell_type": "code",
   "execution_count": 3,
   "metadata": {},
   "outputs": [],
   "source": [
    "# 'Lat' : 위도, 'Long' : 경도\n",
    "# column 명이 'Lat'과 'Long'인 DataFrame 을 생성합니다. \n",
    "marathon_location = pd.DataFrame(columns=['Lat','Long'])\n",
    "\n",
    "# DataFrame에 iterrows 함수를 사용하면 DataFrame에 반복적으로 접근하여 row(행)를 한줄씩 읽어옵니다.\n",
    "for index, record in marathon_2015_2017.iterrows():\n",
    "    if (record['40K'] < check_time):\n",
    "        Lat = points[7][0]\n",
    "        Long = points[7][1]\n",
    "    elif (record['35K'] < check_time):\n",
    "        Lat = points[6][0]\n",
    "        Long = points[6][1]\n",
    "    elif (record['30K'] < check_time):\n",
    "        Lat = points[5][0]\n",
    "        Long = points[5][1]\n",
    "    elif (record['25K'] < check_time):\n",
    "        Lat = points[4][0]\n",
    "        Long = points[4][1]\n",
    "    elif (record['20K'] < check_time):\n",
    "        Lat = points[3][0]\n",
    "        Long = points[3][1]\n",
    "    elif (record['15K'] < check_time):\n",
    "        Lat = points[2][0]\n",
    "        Long = points[2][1]\n",
    "    elif (record['10K'] < check_time):\n",
    "        Lat = points[1][0]\n",
    "        Long = points[1][1]\n",
    "    elif (record['5K'] < check_time):\n",
    "        Lat = points[0][0]\n",
    "        Long = points[0][1]\n",
    "    else:\n",
    "        Lat = points[0][0]\n",
    "        Long = points[0][1]\n",
    "    # DataFrame에 append 함수를 사용하여 두개의 DataFrame 을 병합합니다.\n",
    "    # marathon_location 에 dictinary 를 추가하여 병합합니다.\n",
    "    marathon_location = marathon_location.append({'Lat' : Lat,\n",
    "                                        'Long' : Long},\n",
    "                                        ignore_index=True)"
   ]
  },
  {
   "cell_type": "code",
   "execution_count": 4,
   "metadata": {},
   "outputs": [
    {
     "data": {
      "text/html": [
       "<div>\n",
       "<style scoped>\n",
       "    .dataframe tbody tr th:only-of-type {\n",
       "        vertical-align: middle;\n",
       "    }\n",
       "\n",
       "    .dataframe tbody tr th {\n",
       "        vertical-align: top;\n",
       "    }\n",
       "\n",
       "    .dataframe thead th {\n",
       "        text-align: right;\n",
       "    }\n",
       "</style>\n",
       "<table border=\"1\" class=\"dataframe\">\n",
       "  <thead>\n",
       "    <tr style=\"text-align: right;\">\n",
       "      <th></th>\n",
       "      <th>Lat</th>\n",
       "      <th>Long</th>\n",
       "    </tr>\n",
       "  </thead>\n",
       "  <tbody>\n",
       "    <tr>\n",
       "      <th>0</th>\n",
       "      <td>42.352089</td>\n",
       "      <td>-71.124947</td>\n",
       "    </tr>\n",
       "    <tr>\n",
       "      <th>1</th>\n",
       "      <td>42.352089</td>\n",
       "      <td>-71.124947</td>\n",
       "    </tr>\n",
       "    <tr>\n",
       "      <th>2</th>\n",
       "      <td>42.352089</td>\n",
       "      <td>-71.124947</td>\n",
       "    </tr>\n",
       "    <tr>\n",
       "      <th>3</th>\n",
       "      <td>42.352089</td>\n",
       "      <td>-71.124947</td>\n",
       "    </tr>\n",
       "    <tr>\n",
       "      <th>4</th>\n",
       "      <td>42.352089</td>\n",
       "      <td>-71.124947</td>\n",
       "    </tr>\n",
       "    <tr>\n",
       "      <th>...</th>\n",
       "      <td>...</td>\n",
       "      <td>...</td>\n",
       "    </tr>\n",
       "    <tr>\n",
       "      <th>79633</th>\n",
       "      <td>42.274032</td>\n",
       "      <td>-71.423979</td>\n",
       "    </tr>\n",
       "    <tr>\n",
       "      <th>79634</th>\n",
       "      <td>42.282364</td>\n",
       "      <td>-71.364801</td>\n",
       "    </tr>\n",
       "    <tr>\n",
       "      <th>79635</th>\n",
       "      <td>42.297870</td>\n",
       "      <td>-71.284260</td>\n",
       "    </tr>\n",
       "    <tr>\n",
       "      <th>79636</th>\n",
       "      <td>42.274032</td>\n",
       "      <td>-71.423979</td>\n",
       "    </tr>\n",
       "    <tr>\n",
       "      <th>79637</th>\n",
       "      <td>42.274032</td>\n",
       "      <td>-71.423979</td>\n",
       "    </tr>\n",
       "  </tbody>\n",
       "</table>\n",
       "<p>79638 rows × 2 columns</p>\n",
       "</div>"
      ],
      "text/plain": [
       "             Lat       Long\n",
       "0      42.352089 -71.124947\n",
       "1      42.352089 -71.124947\n",
       "2      42.352089 -71.124947\n",
       "3      42.352089 -71.124947\n",
       "4      42.352089 -71.124947\n",
       "...          ...        ...\n",
       "79633  42.274032 -71.423979\n",
       "79634  42.282364 -71.364801\n",
       "79635  42.297870 -71.284260\n",
       "79636  42.274032 -71.423979\n",
       "79637  42.274032 -71.423979\n",
       "\n",
       "[79638 rows x 2 columns]"
      ]
     },
     "execution_count": 4,
     "metadata": {},
     "output_type": "execute_result"
    }
   ],
   "source": [
    "# marathon_location DataFrame을 확인합니다.\n",
    "marathon_location"
   ]
  },
  {
   "cell_type": "code",
   "execution_count": 5,
   "metadata": {},
   "outputs": [],
   "source": [
    "# 'Lat'(위도)와 'Long'(경도)로 그룹핑을하고 size 함수를 통해 그룹핑된 데이터의 원소의 개수를 구합니다.\n",
    "# reset_index 함수를 통해 index 레벨에 있던 모든 column 들을 다시 column 레벨로 변경합니다. \n",
    "# 이때 column 명이 없었던 column는 'Count' 라 이름을 명시해 줍니다.\n",
    "marathon_count = marathon_location.groupby(['Lat', 'Long']).size().reset_index(name='Count')"
   ]
  },
  {
   "cell_type": "code",
   "execution_count": 6,
   "metadata": {},
   "outputs": [
    {
     "data": {
      "text/html": [
       "<div>\n",
       "<style scoped>\n",
       "    .dataframe tbody tr th:only-of-type {\n",
       "        vertical-align: middle;\n",
       "    }\n",
       "\n",
       "    .dataframe tbody tr th {\n",
       "        vertical-align: top;\n",
       "    }\n",
       "\n",
       "    .dataframe thead th {\n",
       "        text-align: right;\n",
       "    }\n",
       "</style>\n",
       "<table border=\"1\" class=\"dataframe\">\n",
       "  <thead>\n",
       "    <tr style=\"text-align: right;\">\n",
       "      <th></th>\n",
       "      <th>Lat</th>\n",
       "      <th>Long</th>\n",
       "      <th>Count</th>\n",
       "    </tr>\n",
       "  </thead>\n",
       "  <tbody>\n",
       "    <tr>\n",
       "      <th>0</th>\n",
       "      <td>42.274032</td>\n",
       "      <td>-71.423979</td>\n",
       "      <td>135</td>\n",
       "    </tr>\n",
       "    <tr>\n",
       "      <th>1</th>\n",
       "      <td>42.282364</td>\n",
       "      <td>-71.364801</td>\n",
       "      <td>12161</td>\n",
       "    </tr>\n",
       "    <tr>\n",
       "      <th>2</th>\n",
       "      <td>42.297870</td>\n",
       "      <td>-71.284260</td>\n",
       "      <td>40653</td>\n",
       "    </tr>\n",
       "    <tr>\n",
       "      <th>3</th>\n",
       "      <td>42.324830</td>\n",
       "      <td>-71.259660</td>\n",
       "      <td>23870</td>\n",
       "    </tr>\n",
       "    <tr>\n",
       "      <th>4</th>\n",
       "      <td>42.345680</td>\n",
       "      <td>-71.215169</td>\n",
       "      <td>2579</td>\n",
       "    </tr>\n",
       "    <tr>\n",
       "      <th>5</th>\n",
       "      <td>42.351510</td>\n",
       "      <td>-71.086980</td>\n",
       "      <td>76</td>\n",
       "    </tr>\n",
       "    <tr>\n",
       "      <th>6</th>\n",
       "      <td>42.352089</td>\n",
       "      <td>-71.124947</td>\n",
       "      <td>164</td>\n",
       "    </tr>\n",
       "  </tbody>\n",
       "</table>\n",
       "</div>"
      ],
      "text/plain": [
       "         Lat       Long  Count\n",
       "0  42.274032 -71.423979    135\n",
       "1  42.282364 -71.364801  12161\n",
       "2  42.297870 -71.284260  40653\n",
       "3  42.324830 -71.259660  23870\n",
       "4  42.345680 -71.215169   2579\n",
       "5  42.351510 -71.086980     76\n",
       "6  42.352089 -71.124947    164"
      ]
     },
     "execution_count": 6,
     "metadata": {},
     "output_type": "execute_result"
    }
   ],
   "source": [
    "# marathon_count DataFrame을 확인합니다.\n",
    "marathon_count"
   ]
  },
  {
   "cell_type": "code",
   "execution_count": 7,
   "metadata": {},
   "outputs": [
    {
     "data": {
      "image/png": "[encoded data removed]",
      "text/plain": [
       "<Figure size 2160x720 with 1 Axes>"
      ]
     },
     "metadata": {
      "needs_background": "light"
     },
     "output_type": "display_data"
    }
   ],
   "source": [
    "# 그림틀의 크기를 지정한다.\n",
    "plt.figure(figsize=(30,10))\n",
    "\n",
    "# x축, y축 데이터를 지정하여 scatter plot chart를 그립니다. 점의 크기를 정하는 s 파라미터에 변화를 주면 bubble chart 를 그릴 수 있다.\n",
    "plt.scatter(marathon_count.Lat, marathon_count.Long, s=marathon_count.Count, alpha=0.5)\n",
    "\n",
    "# 주석(annotations)을 적어줍니다.\n",
    "for i, txt in enumerate(marathon_count.Count):\n",
    "    plt.annotate(txt, (marathon_count.Lat[i], marathon_count.Long[i]), fontsize=18)\n",
    "\n",
    "plt.title(\"Runners location at 2nd hours\", fontsize=28)  # 차트 title 추가\n",
    "plt.xlabel(\"Latitude\", fontsize=20)   # x축 lable 추가(위도)\n",
    "plt.ylabel(\"Longitude\", fontsize=20)  # y축 lable 추가(경도)\n",
    "\n",
    "# 그래프를 출력\n",
    "plt.show()"
   ]
  },
  {
   "cell_type": "code",
   "execution_count": 10,
   "metadata": {},
   "outputs": [
    {
     "data": {
      "text/html": [
       "<div style=\"width:100%;\"><div style=\"position:relative;width:100%;height:0;padding-bottom:60%;\"><span style=\"color:#565656\">Make this Notebook Trusted to load map: File -> Trust Notebook</span><iframe src=\"about:blank\" style=\"position:absolute;width:100%;height:100%;left:0;top:0;border:none !important;\" data-html=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 onload=\"this.contentDocument.open();this.contentDocument.write(atob(this.getAttribute('data-html')));this.contentDocument.close();\" allowfullscreen webkitallowfullscreen mozallowfullscreen></iframe></div></div>"
      ],
      "text/plain": [
       "<folium.folium.Map at 0x1d1a7229288>"
      ]
     },
     "execution_count": 10,
     "metadata": {},
     "output_type": "execute_result"
    }
   ],
   "source": [
    "# Geo Map을 사용하기 위해 folium 을 불러옵니다.\n",
    "import folium\n",
    "from folium.plugins import HeatMap\n",
    "\n",
    "# folium marathon map을 생성합니다.\n",
    "marathon_map = folium.Map(location=[42.324830,-71.259660],  # 25K 지점을 지도의 중심으로 두겠다 정의.\n",
    "                       # tiles : 'OpenStreetMap', 'Mapbox Bright', 'Mapbox Conrol Room', 'Stamen', 'Cloudmade', 'Mapbox', 'CartoDB'\n",
    "                       tiles = \"OpenStreetMap\",\n",
    "                       zoom_start = 11)  # 초기 Zoom level 설정(int, default 10)\n",
    "\n",
    "# heatmap 을 marathon_map에 추가\n",
    "HeatMap(marathon_count, radius=20).add_to(marathon_map)\n",
    "\n",
    "# 그래프를 출력\n",
    "marathon_map"
   ]
  }
 ],
 "metadata": {
  "kernelspec": {
   "display_name": "Python 3",
   "language": "python",
   "name": "python3"
  },
  "language_info": {
   "codemirror_mode": {
    "name": "ipython",
    "version": 3
   },
   "file_extension": ".py",
   "mimetype": "text/x-python",
   "name": "python",
   "nbconvert_exporter": "python",
   "pygments_lexer": "ipython3",
   "version": "3.7.7"
  }
 },
 "nbformat": 4,
 "nbformat_minor": 4
}
